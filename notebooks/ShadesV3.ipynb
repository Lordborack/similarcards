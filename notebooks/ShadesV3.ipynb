{
  "nbformat": 4,
  "nbformat_minor": 0,
  "metadata": {
    "colab": {
      "name": "ShadesV3.ipynb",
      "provenance": [],
      "include_colab_link": true
    },
    "kernelspec": {
      "name": "python3",
      "display_name": "Python 3"
    },
    "widgets": {
      "application/vnd.jupyter.widget-state+json": {
        "1fcc58a0fc1f45958de47b276f16640f": {
          "model_module": "@jupyter-widgets/controls",
          "model_name": "HTMLModel",
          "state": {
            "_view_name": "HTMLView",
            "style": "IPY_MODEL_eace3187cafc4d548e3720873544321b",
            "_dom_classes": [],
            "description": "",
            "_model_name": "HTMLModel",
            "placeholder": "​",
            "_view_module": "@jupyter-widgets/controls",
            "_model_module_version": "1.5.0",
            "value": "2 examples annotated, 0 examples left",
            "_view_count": null,
            "_view_module_version": "1.5.0",
            "description_tooltip": null,
            "_model_module": "@jupyter-widgets/controls",
            "layout": "IPY_MODEL_57a26782c0c643158e021dff70cfb4d4"
          }
        },
        "eace3187cafc4d548e3720873544321b": {
          "model_module": "@jupyter-widgets/controls",
          "model_name": "DescriptionStyleModel",
          "state": {
            "_view_name": "StyleView",
            "_model_name": "DescriptionStyleModel",
            "description_width": "",
            "_view_module": "@jupyter-widgets/base",
            "_model_module_version": "1.5.0",
            "_view_count": null,
            "_view_module_version": "1.2.0",
            "_model_module": "@jupyter-widgets/controls"
          }
        },
        "57a26782c0c643158e021dff70cfb4d4": {
          "model_module": "@jupyter-widgets/base",
          "model_name": "LayoutModel",
          "state": {
            "_view_name": "LayoutView",
            "grid_template_rows": null,
            "right": null,
            "justify_content": null,
            "_view_module": "@jupyter-widgets/base",
            "overflow": null,
            "_model_module_version": "1.2.0",
            "_view_count": null,
            "flex_flow": null,
            "width": null,
            "min_width": null,
            "border": null,
            "align_items": null,
            "bottom": null,
            "_model_module": "@jupyter-widgets/base",
            "top": null,
            "grid_column": null,
            "overflow_y": null,
            "overflow_x": null,
            "grid_auto_flow": null,
            "grid_area": null,
            "grid_template_columns": null,
            "flex": null,
            "_model_name": "LayoutModel",
            "justify_items": null,
            "grid_row": null,
            "max_height": null,
            "align_content": null,
            "visibility": null,
            "align_self": null,
            "height": null,
            "min_height": null,
            "padding": null,
            "grid_auto_rows": null,
            "grid_gap": null,
            "max_width": null,
            "order": null,
            "_view_module_version": "1.2.0",
            "grid_template_areas": null,
            "object_position": null,
            "object_fit": null,
            "grid_auto_columns": null,
            "margin": null,
            "display": null,
            "left": null
          }
        },
        "d1d63a740e954099a67052ad1516271c": {
          "model_module": "@jupyter-widgets/controls",
          "model_name": "HBoxModel",
          "state": {
            "_view_name": "HBoxView",
            "_dom_classes": [],
            "_model_name": "HBoxModel",
            "_view_module": "@jupyter-widgets/controls",
            "_model_module_version": "1.5.0",
            "_view_count": null,
            "_view_module_version": "1.5.0",
            "box_style": "",
            "layout": "IPY_MODEL_1cd80cdd285f4baeb7786db438b67448",
            "_model_module": "@jupyter-widgets/controls",
            "children": [
              "IPY_MODEL_136267fe57904a079c437922e90b9d39",
              "IPY_MODEL_8b3754297a434a30b5287679f549e5e5",
              "IPY_MODEL_06581090185f4987adf2da4d5b184c46"
            ]
          }
        },
        "1cd80cdd285f4baeb7786db438b67448": {
          "model_module": "@jupyter-widgets/base",
          "model_name": "LayoutModel",
          "state": {
            "_view_name": "LayoutView",
            "grid_template_rows": null,
            "right": null,
            "justify_content": null,
            "_view_module": "@jupyter-widgets/base",
            "overflow": null,
            "_model_module_version": "1.2.0",
            "_view_count": null,
            "flex_flow": null,
            "width": null,
            "min_width": null,
            "border": null,
            "align_items": null,
            "bottom": null,
            "_model_module": "@jupyter-widgets/base",
            "top": null,
            "grid_column": null,
            "overflow_y": null,
            "overflow_x": null,
            "grid_auto_flow": null,
            "grid_area": null,
            "grid_template_columns": null,
            "flex": null,
            "_model_name": "LayoutModel",
            "justify_items": null,
            "grid_row": null,
            "max_height": null,
            "align_content": null,
            "visibility": null,
            "align_self": null,
            "height": null,
            "min_height": null,
            "padding": null,
            "grid_auto_rows": null,
            "grid_gap": null,
            "max_width": null,
            "order": null,
            "_view_module_version": "1.2.0",
            "grid_template_areas": null,
            "object_position": null,
            "object_fit": null,
            "grid_auto_columns": null,
            "margin": null,
            "display": null,
            "left": null
          }
        },
        "136267fe57904a079c437922e90b9d39": {
          "model_module": "@jupyter-widgets/controls",
          "model_name": "ButtonModel",
          "state": {
            "_view_name": "ButtonView",
            "style": "IPY_MODEL_6a0eda4b2d9f47089561e11728384a62",
            "_dom_classes": [],
            "description": "positive",
            "_model_name": "ButtonModel",
            "button_style": "",
            "_view_module": "@jupyter-widgets/controls",
            "_model_module_version": "1.5.0",
            "tooltip": "",
            "_view_count": null,
            "disabled": true,
            "_view_module_version": "1.5.0",
            "layout": "IPY_MODEL_d58913f3579f4979b5607ce87b373416",
            "_model_module": "@jupyter-widgets/controls",
            "icon": ""
          }
        },
        "8b3754297a434a30b5287679f549e5e5": {
          "model_module": "@jupyter-widgets/controls",
          "model_name": "ButtonModel",
          "state": {
            "_view_name": "ButtonView",
            "style": "IPY_MODEL_23639c710adc4fe1a2427b43a86e9676",
            "_dom_classes": [],
            "description": "negative",
            "_model_name": "ButtonModel",
            "button_style": "",
            "_view_module": "@jupyter-widgets/controls",
            "_model_module_version": "1.5.0",
            "tooltip": "",
            "_view_count": null,
            "disabled": true,
            "_view_module_version": "1.5.0",
            "layout": "IPY_MODEL_88cf1891bf80409d9df317a74ec6550b",
            "_model_module": "@jupyter-widgets/controls",
            "icon": ""
          }
        },
        "06581090185f4987adf2da4d5b184c46": {
          "model_module": "@jupyter-widgets/controls",
          "model_name": "ButtonModel",
          "state": {
            "_view_name": "ButtonView",
            "style": "IPY_MODEL_00ae7b257a2c486aa1ca915fed56397d",
            "_dom_classes": [],
            "description": "skip",
            "_model_name": "ButtonModel",
            "button_style": "",
            "_view_module": "@jupyter-widgets/controls",
            "_model_module_version": "1.5.0",
            "tooltip": "",
            "_view_count": null,
            "disabled": true,
            "_view_module_version": "1.5.0",
            "layout": "IPY_MODEL_572de867423d45caa4c3c5170033bd90",
            "_model_module": "@jupyter-widgets/controls",
            "icon": ""
          }
        },
        "6a0eda4b2d9f47089561e11728384a62": {
          "model_module": "@jupyter-widgets/controls",
          "model_name": "ButtonStyleModel",
          "state": {
            "_view_name": "StyleView",
            "_model_name": "ButtonStyleModel",
            "_view_module": "@jupyter-widgets/base",
            "_model_module_version": "1.5.0",
            "_view_count": null,
            "button_color": null,
            "font_weight": "",
            "_view_module_version": "1.2.0",
            "_model_module": "@jupyter-widgets/controls"
          }
        },
        "d58913f3579f4979b5607ce87b373416": {
          "model_module": "@jupyter-widgets/base",
          "model_name": "LayoutModel",
          "state": {
            "_view_name": "LayoutView",
            "grid_template_rows": null,
            "right": null,
            "justify_content": null,
            "_view_module": "@jupyter-widgets/base",
            "overflow": null,
            "_model_module_version": "1.2.0",
            "_view_count": null,
            "flex_flow": null,
            "width": null,
            "min_width": null,
            "border": null,
            "align_items": null,
            "bottom": null,
            "_model_module": "@jupyter-widgets/base",
            "top": null,
            "grid_column": null,
            "overflow_y": null,
            "overflow_x": null,
            "grid_auto_flow": null,
            "grid_area": null,
            "grid_template_columns": null,
            "flex": null,
            "_model_name": "LayoutModel",
            "justify_items": null,
            "grid_row": null,
            "max_height": null,
            "align_content": null,
            "visibility": null,
            "align_self": null,
            "height": null,
            "min_height": null,
            "padding": null,
            "grid_auto_rows": null,
            "grid_gap": null,
            "max_width": null,
            "order": null,
            "_view_module_version": "1.2.0",
            "grid_template_areas": null,
            "object_position": null,
            "object_fit": null,
            "grid_auto_columns": null,
            "margin": null,
            "display": null,
            "left": null
          }
        },
        "23639c710adc4fe1a2427b43a86e9676": {
          "model_module": "@jupyter-widgets/controls",
          "model_name": "ButtonStyleModel",
          "state": {
            "_view_name": "StyleView",
            "_model_name": "ButtonStyleModel",
            "_view_module": "@jupyter-widgets/base",
            "_model_module_version": "1.5.0",
            "_view_count": null,
            "button_color": null,
            "font_weight": "",
            "_view_module_version": "1.2.0",
            "_model_module": "@jupyter-widgets/controls"
          }
        },
        "88cf1891bf80409d9df317a74ec6550b": {
          "model_module": "@jupyter-widgets/base",
          "model_name": "LayoutModel",
          "state": {
            "_view_name": "LayoutView",
            "grid_template_rows": null,
            "right": null,
            "justify_content": null,
            "_view_module": "@jupyter-widgets/base",
            "overflow": null,
            "_model_module_version": "1.2.0",
            "_view_count": null,
            "flex_flow": null,
            "width": null,
            "min_width": null,
            "border": null,
            "align_items": null,
            "bottom": null,
            "_model_module": "@jupyter-widgets/base",
            "top": null,
            "grid_column": null,
            "overflow_y": null,
            "overflow_x": null,
            "grid_auto_flow": null,
            "grid_area": null,
            "grid_template_columns": null,
            "flex": null,
            "_model_name": "LayoutModel",
            "justify_items": null,
            "grid_row": null,
            "max_height": null,
            "align_content": null,
            "visibility": null,
            "align_self": null,
            "height": null,
            "min_height": null,
            "padding": null,
            "grid_auto_rows": null,
            "grid_gap": null,
            "max_width": null,
            "order": null,
            "_view_module_version": "1.2.0",
            "grid_template_areas": null,
            "object_position": null,
            "object_fit": null,
            "grid_auto_columns": null,
            "margin": null,
            "display": null,
            "left": null
          }
        },
        "00ae7b257a2c486aa1ca915fed56397d": {
          "model_module": "@jupyter-widgets/controls",
          "model_name": "ButtonStyleModel",
          "state": {
            "_view_name": "StyleView",
            "_model_name": "ButtonStyleModel",
            "_view_module": "@jupyter-widgets/base",
            "_model_module_version": "1.5.0",
            "_view_count": null,
            "button_color": null,
            "font_weight": "",
            "_view_module_version": "1.2.0",
            "_model_module": "@jupyter-widgets/controls"
          }
        },
        "572de867423d45caa4c3c5170033bd90": {
          "model_module": "@jupyter-widgets/base",
          "model_name": "LayoutModel",
          "state": {
            "_view_name": "LayoutView",
            "grid_template_rows": null,
            "right": null,
            "justify_content": null,
            "_view_module": "@jupyter-widgets/base",
            "overflow": null,
            "_model_module_version": "1.2.0",
            "_view_count": null,
            "flex_flow": null,
            "width": null,
            "min_width": null,
            "border": null,
            "align_items": null,
            "bottom": null,
            "_model_module": "@jupyter-widgets/base",
            "top": null,
            "grid_column": null,
            "overflow_y": null,
            "overflow_x": null,
            "grid_auto_flow": null,
            "grid_area": null,
            "grid_template_columns": null,
            "flex": null,
            "_model_name": "LayoutModel",
            "justify_items": null,
            "grid_row": null,
            "max_height": null,
            "align_content": null,
            "visibility": null,
            "align_self": null,
            "height": null,
            "min_height": null,
            "padding": null,
            "grid_auto_rows": null,
            "grid_gap": null,
            "max_width": null,
            "order": null,
            "_view_module_version": "1.2.0",
            "grid_template_areas": null,
            "object_position": null,
            "object_fit": null,
            "grid_auto_columns": null,
            "margin": null,
            "display": null,
            "left": null
          }
        },
        "5cd0e1a2c4ac475a8c319851e4bc3336": {
          "model_module": "@jupyter-widgets/output",
          "model_name": "OutputModel",
          "state": {
            "_view_name": "OutputView",
            "msg_id": "",
            "_dom_classes": [],
            "_model_name": "OutputModel",
            "outputs": [
              {
                "output_type": "display_data",
                "metadata": {
                  "tags": []
                },
                "application/vnd.google.colaboratory.intrinsic": {
                  "type": "string"
                },
                "text/plain": "'I was really disappointed by the book'"
              }
            ],
            "_view_module": "@jupyter-widgets/output",
            "_model_module_version": "1.0.0",
            "_view_count": null,
            "_view_module_version": "1.0.0",
            "layout": "IPY_MODEL_7c5d244e9c7646a49bef7d4e1b3fc13e",
            "_model_module": "@jupyter-widgets/output"
          }
        },
        "7c5d244e9c7646a49bef7d4e1b3fc13e": {
          "model_module": "@jupyter-widgets/base",
          "model_name": "LayoutModel",
          "state": {
            "_view_name": "LayoutView",
            "grid_template_rows": null,
            "right": null,
            "justify_content": null,
            "_view_module": "@jupyter-widgets/base",
            "overflow": null,
            "_model_module_version": "1.2.0",
            "_view_count": null,
            "flex_flow": null,
            "width": null,
            "min_width": null,
            "border": null,
            "align_items": null,
            "bottom": null,
            "_model_module": "@jupyter-widgets/base",
            "top": null,
            "grid_column": null,
            "overflow_y": null,
            "overflow_x": null,
            "grid_auto_flow": null,
            "grid_area": null,
            "grid_template_columns": null,
            "flex": null,
            "_model_name": "LayoutModel",
            "justify_items": null,
            "grid_row": null,
            "max_height": null,
            "align_content": null,
            "visibility": null,
            "align_self": null,
            "height": null,
            "min_height": null,
            "padding": null,
            "grid_auto_rows": null,
            "grid_gap": null,
            "max_width": null,
            "order": null,
            "_view_module_version": "1.2.0",
            "grid_template_areas": null,
            "object_position": null,
            "object_fit": null,
            "grid_auto_columns": null,
            "margin": null,
            "display": null,
            "left": null
          }
        }
      }
    }
  },
  "cells": [
    {
      "cell_type": "markdown",
      "metadata": {
        "id": "view-in-github",
        "colab_type": "text"
      },
      "source": [
        "<a href=\"https://colab.research.google.com/github/Lordborack/similarcards/blob/master/ShadesV3.ipynb\" target=\"_parent\"><img src=\"https://colab.research.google.com/assets/colab-badge.svg\" alt=\"Open In Colab\"/></a>"
      ]
    },
    {
      "cell_type": "code",
      "metadata": {
        "id": "H04cLYZDe3wA",
        "colab_type": "code",
        "cellView": "form",
        "colab": {
          "base_uri": "https://localhost:8080/",
          "height": 125
        },
        "outputId": "356e41d4-93d3-4132-c006-d632f2f0ffe2"
      },
      "source": [
        "#@title IMPORT\n",
        "import re\n",
        "import pandas as pd\n",
        "import numpy as np\n",
        "import nltk\n",
        "import json\n",
        "import math\n",
        "nltk.download('stopwords')\n",
        "nltk.download('punkt')\n",
        "from nltk.tokenize import word_tokenize \n",
        "from nltk.corpus import stopwords \n",
        "from operator import itemgetter \n",
        "from sklearn.metrics.pairwise import cosine_similarity \n",
        "from sklearn.metrics import f1_score\n",
        "from sklearn.neighbors import NearestNeighbors\n",
        "from collections import Counter\n",
        "\n",
        "import sys\n",
        "import os\n",
        "import torch\n",
        "import itertools\n",
        "\n",
        "from collections import OrderedDict\n",
        "\n",
        "\n",
        "pathWord2Vec = \"/content/drive/My Drive/colab/resources/\"\n",
        "pathFastText = \"/content/drive/My Drive/colab/resources/wiki-news-300d-1M.vec\"\n",
        "\n",
        "\n",
        "\n",
        "pd.set_option('precision', 2)\n",
        "pd.set_option('display.max_colwidth', -1)\n",
        "\n",
        "  "
      ],
      "execution_count": null,
      "outputs": [
        {
          "output_type": "stream",
          "text": [
            "[nltk_data] Downloading package stopwords to /root/nltk_data...\n",
            "[nltk_data]   Package stopwords is already up-to-date!\n",
            "[nltk_data] Downloading package punkt to /root/nltk_data...\n",
            "[nltk_data]   Package punkt is already up-to-date!\n"
          ],
          "name": "stdout"
        },
        {
          "output_type": "stream",
          "text": [
            "/usr/local/lib/python3.6/dist-packages/ipykernel_launcher.py:24: FutureWarning: Passing a negative integer is deprecated in version 1.0 and will not be supported in future version. Instead, use None to not limit the column width.\n"
          ],
          "name": "stderr"
        }
      ]
    },
    {
      "cell_type": "code",
      "metadata": {
        "id": "QXGPZqrhBlfq",
        "colab_type": "code",
        "colab": {}
      },
      "source": [
        "#!pip install flask-ngrok\n",
        "#!pip install -e git+https://github.com/microsoft/nlp-recipes.git@master#egg=utils_nlp\n",
        "#!git clone https://github.com/microsoft/nlp-recipes.git\n",
        "#!pip install gensim\n",
        "\n",
        "from utils_nlp.models.pretrained_embeddings import word2vec\n",
        "from gensim.models import KeyedVectors\n",
        "from gensim.models import doc2vec\n",
        "import gensim\n",
        "\n",
        "#!pip install pytorch-pretrained-bert\n",
        "#!pip install cached_property\n",
        "#!pip install scrapbook\n",
        "\n",
        "import scrapbook as sb\n",
        "from utils_nlp.models.bert.common import Language, Tokenizer\n",
        "from utils_nlp.models.bert.sequence_encoding import BERTSentenceEncoder, PoolingStrategy\n"
      ],
      "execution_count": null,
      "outputs": []
    },
    {
      "cell_type": "markdown",
      "metadata": {
        "id": "LWRhn6TGiVGo",
        "colab_type": "text"
      },
      "source": [
        "This colab finds similarities between descriptions of sahdespire cards.\n",
        "\n",
        "\n",
        "**To Do:**\n",
        "\n",
        "* Evaluate several models\n",
        "  * Create evaluation set\n",
        "    * hand labeling data (100 most popular card, and find similar cards to those ones) DONE\n",
        "    * load data into colab DONE \n",
        "  * create evaluation metric -> F1\n",
        "    * we get the following card1,card2,N -> we output wether this card2 was whinin the N similar cards of card1.\n",
        "  * increase evaluation speed  (DONE)\n",
        "    * by using build in functions from NN -> this will force to set 10 similar cards per card..\n",
        "    * by reducing the amount of calls to the api (50% by single call per unique card, 50% by not data duplication)\n",
        "  * put config file (or chunk) -> in progress\n",
        "  * create function to enrich evaluation set\n",
        "  * normalize document embeding such that xT x = 1\n",
        "  * implement several algorithms **(NEXT)**\n",
        "    * fine tunining and reciepts from here  https://github.com/microsoft/nlp-recipes/blob/master/README.md\n",
        "    * outline the algorithms that we ant to check\n",
        "      * BERT_> https://github.com/microsoft/nlp-recipes/blob/master/examples/sentence_similarity/bert_encoder.ipynb\n",
        "      * doc2vec -> https://medium.com/wisio/a-gentle-introduction-to-doc2vec-db3e8c0cce5e OK\n",
        "      * 2 benchmarks  -> https://github.com/microsoft/nlp-recipes/blob/master/examples/sentence_similarity/baseline_deep_dive.ipynb OK\n",
        "      * check entity embbeding: https://blog.insightdatascience.com/entity2vec-dad368c5b830\n",
        "      * next MIN-MAX weighting (DONE)\n",
        "      * self training on data doc2vec (DONE)\n",
        "      * remove stop words and lematization/steaming \n",
        "      * BERT!!!!! (DONE)\n",
        "  * From all recomendations of the algorithms create a set of similar cards\n",
        "  * Remove the ones that we already know are similar\n",
        "  * Popmpt the resutls to and end user to evaluate if they are similar or not\n",
        "  * Enrich the data-set and re-evaluate the algorithms (both with the hand labeled data set and the enriched data set)\n",
        "\n",
        "    \n",
        "**Notes:**\n",
        "* si una carta nomes te cartes similars que provenen de les cartes originalment similars, vol dir que el labeling es va fer bé\n",
        "* si una carta nomes te cartes similars que provenen del recomanador diu que el hand labeling no es va fer bé ( i possiblement haguem de treure aqusta carata a l'hora de avaluar)\n",
        "* Details on measurement metric: precision and recall?\n",
        "* precision: out of the 3 similar cards all of them were similar?\n",
        "  * recall: out the 3 most similar cards which were included on the set?\n",
        "  * how many cards: 100-200 cards... for each we should look for similar cards: from 3 to 10. and rank them at least 3 most similar 7 lesser similar.\n",
        "\n",
        "\n",
        "\n",
        "**Backlog:**\n",
        "* remove auth when reading from GS\n",
        "* clean up of data\n",
        "  * improve dealing with weapons and so...\n",
        "* better logic \n",
        "  * take into account resticted factions \n",
        "  * include extra features such as key words (n-gram), restrictions (to fighters wizards), ideas for evaluate: friendly and enemy should be super relevant. attack action,\n",
        "  * fuzzy string matching for card names\n",
        "* flask to open new tab  \n",
        "* Put code into AWS and have it 24/7 (need miki for this...)\n",
        "    * probably need to use AWS infrastructure\n",
        "    * https://medium.com/@kshitijvijay271199/flask-on-google-colab-f6525986797b\n",
        "    * https://colab.research.google.com/github/shawwn/colab-tricks/blob/master/ngrok-tricks.ipynb#scrollTo=1B_aC562JbJU\n",
        "    * https://www.twilio.com/blog/2016/08/getting-started-python-bottle-twilio-sms-mms.html\n",
        "\n",
        "\n",
        "\n",
        "\n",
        "\n",
        "\n",
        "\n",
        "\n",
        "\n",
        "\n",
        "\n",
        "\n"
      ]
    },
    {
      "cell_type": "code",
      "metadata": {
        "id": "AaFNUm0TF2n8",
        "colab_type": "code",
        "cellView": "form",
        "colab": {}
      },
      "source": [
        "#@title LOAD\n",
        "def remove_white_spaces_and_special_characters(sentence):\n",
        "  nowhitespaces = re.sub('[^A-Za-z0-9 ]+', '', sentence)\n",
        "  return(nowhitespaces)\n",
        "\n",
        "def clean_description(text):\n",
        "    text = re.sub('[Mm]ag[Cc]hannel', 'Magical Channel', text)\n",
        "    text = re.sub('\\:dfDodge\\:','Dodge', text)\n",
        "    text = re.sub('[Ee]rrata update', '', text)\n",
        "    text = re.sub('-','minus ', text)\n",
        "    text = re.sub('\\*','',text)\n",
        "    text = re.sub('\\\\[tnr]','',text)\n",
        "    text = re.sub('[^A-Za-z0-9 ]+', '', text)\n",
        "\n",
        "    return(text)\n",
        "\n",
        "def clean_cards(data):\n",
        "  data['Description_clean'] = data['Description_clean'].apply(str)\n",
        "  data['Name'] = data['Name'].apply(str)\n",
        "  data = data[['Number','Name','Type','Faction','Description_clean']]\n",
        "  data = data.drop_duplicates(subset = 'Name')\n",
        "  data['Description_clean'] = [clean_description(name).lower() for name in data['Description_clean']]\n",
        "\n",
        "  data = data[data['Description_clean'] != 'nan']\n",
        "  data = data[data['Name'] != 'nan']\n",
        "  data['Name'] = [name.lower() for name in data['Name']]\n",
        "  data = data.dropna(0)\n",
        "  return(data)\n",
        "\n",
        "def read_from_gs(path, sheet_name):\n",
        "  from google.colab import auth\n",
        "  auth.authenticate_user()\n",
        "\n",
        "  import gspread\n",
        "  from oauth2client.client import GoogleCredentials\n",
        "\n",
        "  gc = gspread.authorize(GoogleCredentials.get_application_default())\n",
        "  wb = gc.open_by_url(path)\n",
        "  sheet = wb.worksheet(sheet_name)\n",
        "\n",
        "  records = sheet.get_all_values()\n",
        "  data = pd.DataFrame.from_records(records[1:])\n",
        "  dic_rename = dict(zip(data.columns.tolist(), records[0]))\n",
        "  data.rename(columns = dic_rename, inplace = True)\n",
        "  \n",
        "  return(data)\n",
        "\n",
        "def read_and_clean_gs(path, sheet_name):\n",
        "  \n",
        "  data = read_from_gs(path, sheet_name)\n",
        "  data.rename(columns = {'Description':'Description_clean'}, inplace = True)\n",
        "  return(clean_cards(data))\n",
        "\n",
        "\n",
        "def read_and_clean_csv(path):\n",
        "  df = pd.read_csv(path)\n",
        "  df.rename(columns= {'Description.1':'Description_clean'}, inplace = True)\n",
        "  return(clean_cards(df))\n",
        "\n",
        "def get_id_card_name_dic(cards):\n",
        "  dic = dict(zip(cards['Number'], cards['Name']))\n",
        "  return(dic)  \n",
        "\n",
        "def get_card_name_id_dic(cards):\n",
        "  dic = dict(zip(cards['Name'], cards['Number']))\n",
        "  return(dic)\n",
        "\n",
        "def read_and_clean_validation_set(path, sheet_name):\n",
        "  df = read_from_gs(path, sheet_name)\n",
        "  data = pd.melt(df, id_vars=[\"Name\"])\n",
        "  data = data[data['variable'] != 'Description']\n",
        "  data = data[['Name', 'value']]\n",
        "  data = data[data['value'] != '']\n",
        "\n",
        "  data = data.dropna(0)\n",
        "  data[data['Name'] == 'Combination Strike']\n",
        "  data['Name'] = [name.lower() for name in data['Name']]\n",
        "  data['value'] = [name.lower() for name in data['value']]\n",
        "\n",
        "  data2 = data.copy()\n",
        "  data2.rename(columns = {'Name':'value', 'value':'Name'}, inplace = True)\n",
        "  data2.shape\n",
        "\n",
        "  data3 = pd.concat([data2, data])\n",
        "  data3 = data3.drop_duplicates()\n",
        "\n",
        "\n",
        "  data_num_by_name = data3.groupby('Name').count()\n",
        "  data_num_by_name.rename(columns = {'value':'num'}, inplace = True)\n",
        "  data4 = pd.merge(data3, data_num_by_name, on = \"Name\")\n",
        "  data4 = data4[['Name','value','num']]\n",
        "\n",
        "  return(data4)"
      ],
      "execution_count": null,
      "outputs": []
    },
    {
      "cell_type": "code",
      "metadata": {
        "id": "BZQcrY_9VkYy",
        "colab_type": "code",
        "cellView": "code",
        "colab": {}
      },
      "source": [
        "#@title EMBEDDINGS\n",
        "CLOSER_POINTS_ALG = \"KNN\"\n",
        "EMBEDDINGDS = \"GLOVE_MIN_MAX\"\n",
        "N_NEIGHBORS = 10\n",
        " \n",
        "def setup_bert():\n",
        "  # device config\n",
        "  NUM_GPUS = 0\n",
        "\n",
        "  # model config\n",
        "  LANGUAGE = Language.ENGLISH\n",
        "  TO_LOWER = True\n",
        "  MAX_SEQ_LENGTH = 128\n",
        "  LAYER_INDEX = -2\n",
        "  POOLING_STRATEGY = PoolingStrategy.MEAN\n",
        "\n",
        "  # path config\n",
        "  CACHE_DIR = \"./temp\"\n",
        "\n",
        "  if not os.path.exists(CACHE_DIR):\n",
        "    os.makedirs(CACHE_DIR, exist_ok=True)\n",
        "\n",
        "  bert_se = BERTSentenceEncoder(\n",
        "    language=LANGUAGE,\n",
        "    num_gpus=NUM_GPUS,\n",
        "    cache_dir=CACHE_DIR,\n",
        "    to_lower=TO_LOWER,\n",
        "    max_len=MAX_SEQ_LENGTH,\n",
        "    layer_index=LAYER_INDEX,\n",
        "    pooling_strategy=POOLING_STRATEGY,\n",
        "  )\n",
        "  return(se)\n",
        "\n",
        "\n",
        "def train_doc2vec(cards):\n",
        "  cards_clean = [tokenizize_and_clean(s) for s in cards['Description_clean'] ]\n",
        "  train_corpus = list()\n",
        "  i = -1\n",
        "  for tokens in cards_clean:\n",
        "    i = i + 1\n",
        "    train_corpus.append(gensim.models.doc2vec.TaggedDocument(tokens, [i]))\n",
        "\n",
        "  model = gensim.models.doc2vec.Doc2Vec(vector_size=50, min_count=2, epochs=40, dm = 0)\n",
        "  model.build_vocab(train_corpus)\n",
        "  model.train(train_corpus, total_examples=model.corpus_count, epochs=model.epochs)\n",
        "  return(model)\n",
        "\n",
        "def get_embeddings_glove():\n",
        "  print('Indexing word vectors.')\n",
        "  embeddings_index = {}\n",
        "  f = open('/content/drive/My Drive/colab/resources/glove.6B.'+str(embedding_dim)+'d.txt', encoding='utf-8')\n",
        "  for line in f:\n",
        "      values = line.split()\n",
        "      word = values[0]\n",
        "      coefs = np.asarray(values[1:], dtype='float32')\n",
        "      embeddings_index[word] = coefs\n",
        "  f.close()\n",
        "\n",
        "  print('Found %s word vectors.' % len(embeddings_index))\n",
        "  return(embeddings_index)\n",
        "\n",
        "def get_document_frequency(cards):\n",
        "    document_frequency_dict = {}\n",
        "    all_sentences = [tokenizize_and_clean(s) for s in cards['Description_clean'] ]\n",
        "    sentence = np.concatenate(all_sentences, axis=0)\n",
        "    n = len(sentence)\n",
        "\n",
        "    for s in all_sentences:\n",
        "        for token in set(s):\n",
        "            document_frequency_dict[token] = document_frequency_dict.get(token, 0) + 1\n",
        "\n",
        "    return document_frequency_dict, n\n",
        "  \n",
        "def doc_embeddings_weighted_average(doc, embeddings_index):\n",
        "    # Throw away tokens that are not in the embedding model\n",
        "    tokens = [i for i in doc if i in embeddings_index]\n",
        "    if len(tokens) == 0:\n",
        "        return []\n",
        "\n",
        "    # We will weight by TF-IDF. The TF part is calculated by:\n",
        "    # (# of times term appears / total terms in sentence)\n",
        "    count = Counter(tokens)\n",
        "    token_list = list(count)\n",
        "    term_frequency = [count[i] / len(tokens) for i in token_list]\n",
        "\n",
        "    # Now for the IDF part: LOG(# documents / # documents with term in it)\n",
        "    inv_doc_frequency = [\n",
        "        math.log(num_documents / (document_frequencies.get(i, 0) + 1)) for i in count\n",
        "    ]\n",
        "\n",
        "    # Put the TF-IDF together and produce the weighted average of vector embeddings\n",
        "    word_embeddings = [embeddings_index[token] for token in token_list]\n",
        "    weights = [term_frequency[i] * inv_doc_frequency[i] for i in range(len(token_list))]\n",
        "    doc_embeddings = np.average(word_embeddings, weights=weights, axis=0)\n",
        "    return normalize(doc_embeddings)\n",
        "\n",
        "def normalize(x):\n",
        "  return(x / np.sqrt(np.sum(x**2)))\n",
        "\n",
        "def doc_embeddings_min_max(doc, embeddings_index):\n",
        "  embedding_dim = len(embeddings_index['1'])\n",
        "\n",
        "  w_max_embeddings = -float(\"inf\")*np.ones((1,embedding_dim))\n",
        "  w_min_embeddings = float(\"inf\")*np.ones((1,embedding_dim))  \n",
        "  tokens = [i for i in doc if i in embeddings_index]\n",
        "\n",
        "  for word in tokens:\n",
        "    w_embedding = embeddings_index[word]\n",
        "    w_max_embeddings = np.maximum(w_embedding.astype(float), w_max_embeddings)\n",
        "    w_min_embeddings = np.minimum(w_embedding.astype(float), w_max_embeddings)\n",
        "\n",
        "  w_min_max_embeddings = np.concatenate([w_min_embeddings, w_max_embeddings], axis = 1).flatten()\n",
        "  return normalize(w_min_max_embeddings)\n",
        "\n",
        "def tokenizize_and_clean(sentence):\n",
        "  stop_words = set(stopwords.words('english')) \n",
        "  word_tokens = word_tokenize(sentence)\n",
        "  filtered_sentence = [w.lower() for w in word_tokens if (not w in stop_words) and w.isalpha()] \n",
        "  return filtered_sentence\n",
        "\n",
        "def glove_min_max_sentence_embeddings(cards):\n",
        "  cards_clean = [tokenizize_and_clean(s) for s in cards['Description_clean'] ]\n",
        "  cards_clean_embedding = [doc_embeddings_min_max(s, glove_embeddings) for s in cards_clean]\n",
        "  return (cards_clean_embedding)\n",
        "\n",
        "def word2vec_ifdf_sentence_embeddings(cards):\n",
        "   cards_clean = [tokenizize_and_clean(s) for s in cards['Description_clean'] ]\n",
        "   cards_clean_embedding = [doc_embeddings_weighted_average(s, word2vec_embeddings) for s in cards_clean]\n",
        "   return (cards_clean_embedding)\n",
        "\n",
        "def word2vec_min_max_sentence_embeddings(cards):\n",
        "   cards_clean = [tokenizize_and_clean(s) for s in cards['Description_clean'] ]\n",
        "   cards_clean_embedding = [doc_embeddings_min_max(s, word2vec_embeddings) for s in cards_clean]\n",
        "   return (cards_clean_embedding)\n",
        "\n",
        "def glove_ifdf_sentence_embeddings(cards): \n",
        "  cards_clean = [tokenizize_and_clean(s) for s in cards['Description_clean'] ]\n",
        "  cards_clean_embedding = [doc_embeddings_weighted_average(s, glove_embeddings) for s in cards_clean]\n",
        "  return (cards_clean_embedding)\n",
        "\n",
        "def fastext_ifdf_sentence_embeddings(cards): \n",
        "  cards_clean = [tokenizize_and_clean(s) for s in cards['Description_clean'] ]\n",
        "  cards_clean_embedding = [doc_embeddings_weighted_average(s, fastext_embeddings) for s in cards_clean]\n",
        "  return (cards_clean_embedding)\n",
        "\n",
        "def fastext_min_max_sentence_embeddings(cards): \n",
        "  cards_clean = [tokenizize_and_clean(s) for s in cards['Description_clean'] ]\n",
        "  cards_clean_embedding = [doc_embeddings_min_max(s, fastext_embeddings) for s in cards_clean]\n",
        "  return (cards_clean_embedding)\n",
        "\n",
        "def doc2vec_embeddings(cards):\n",
        "  cards_clean = [tokenizize_and_clean(s) for s in cards['Description_clean'] ]\n",
        "  cards_clean_embedding = [doc2vecSelfTrainedModel.infer_vector(s) for s in cards_clean]\n",
        "  return (cards_clean_embedding)\n",
        "\n",
        "def bert_embeddings(cards):\n",
        "  cards_clean = [tokenizize_and_clean(s) for s in cards['Description_clean'] ]\n",
        "  cards_clean_single_string = [\" \".join(s) for s in cards_clean ]\n",
        "  cards_clean_embedding = bert_se.encode(cards_clean_single_string, as_numpy = True)\n",
        "  return (cards_clean_embedding)\n",
        "\n",
        "\n",
        "\n",
        "embeddings_dispatcher = {   \"GLOVE_MIN_MAX\" : glove_min_max_sentence_embeddings, \n",
        "                            \"GLOVE_WEIGTHED_AVERAGE\" : glove_ifdf_sentence_embeddings,\n",
        "                            \"WORD2VEC_WEIGTHED_AVERAGE\": word2vec_ifdf_sentence_embeddings,\n",
        "                            \"WORD2VEC_MIN_MAX\":word2vec_min_max_sentence_embeddings, \n",
        "                            \"FASTTEXT_WEIGTHED_AVERAGE\":fastext_ifdf_sentence_embeddings,\n",
        "                            \"FASTTEXT_MIN_MAX\":fastext_min_max_sentence_embeddings,\n",
        "                            \"DOC2VEC_SELFTRAINED\": doc2vec_embeddings,\n",
        "                            \"BERT\": bert_embeddings}\n",
        "\n",
        "                            \n",
        "def generate_card_embeddings_deck(cards):\n",
        "\n",
        "  emb = embeddings_dispatcher[EMBEDDINGDS]\n",
        "  cards_embedding = emb(cards)\n",
        "  deck = {}\n",
        "  i = 0\n",
        "  for number in cards['Number']: \n",
        "    deck[number] = cards_embedding[i]\n",
        "    i=i+1\n",
        "  return(deck)\n",
        "\n",
        "def knn_model():\n",
        "    nbrs = NearestNeighbors(n_neighbors = N_NEIGHBORS + 1, algorithm='ball_tree').fit(np.array(list(deck.values())))\n",
        "    return(nbrs)\n",
        "\n",
        "def knn_similarity(id):\n",
        "    similarity={} \n",
        "    key_idx = np.array(list(deck.keys()))  \n",
        "    distance, index = nbrsModel.kneighbors(deck[id].reshape(1, -1))\n",
        "    similarids = key_idx[index].flatten()\n",
        "    distance = distance.flatten()\n",
        "\n",
        "    i = 0\n",
        "    for key in similarids[similarids!=id]:\n",
        "      similarity[key]= 1/(1 + distance[i])\n",
        "      i = i +1\n",
        "\n",
        "    return(similarity)\n",
        "\n",
        "def brute_force_cosine_similarity(id):\n",
        "    deckSimilarity={}\n",
        "    cardEmbedding = deck.get(id)\n",
        "    keys = np.array(list(deck.keys()))\n",
        "    keys = keys[keys!=id]\n",
        "\n",
        "    for key in keys:\n",
        "      cardEmbedding2 = deck.get(key)\n",
        "      similarity = cosine_similarity(cardEmbedding.reshape(1, -1), cardEmbedding2.reshape(1, -1))\n",
        "      deckSimilarity[key] = similarity.item()\n",
        "\n",
        "    res = dict(sorted(deckSimilarity.items(), key = itemgetter(1), reverse = True)[:N_NEIGHBORS]) \n",
        "    return(res)\n",
        "\n",
        "closer_distance_dispatcher = { \"KNN\": knn_similarity, \"BFCS\": brute_force_cosine_similarity }\n",
        "\n"
      ],
      "execution_count": null,
      "outputs": []
    },
    {
      "cell_type": "code",
      "metadata": {
        "id": "58Gl4Empgv_a",
        "colab_type": "code",
        "cellView": "form",
        "colab": {}
      },
      "source": [
        "#@title EVAL & DECORATORS\n",
        "def get_card_faction(number, cards):\n",
        "    return cards.loc[list(cards['Number'] == number).index(True),'Faction']   \n",
        "\n",
        "def remove_factions_not_universal_and_not_equal_to(faction, cards):\n",
        "    cardsToKeep = cards[cards['Faction'].isin([faction,'Universal'])]['Number']\n",
        "    return { key: deck[key] for key in cardsToKeep }\n",
        "\n",
        "def get_card_number(card_name):\n",
        "  for key, value in id_card_name.items():\n",
        "    if str(value) == card_name:\n",
        "      return(key)\n",
        "\n",
        "def deck_decorator(card_number, cards):\n",
        "    return(cards[ cards['Number'].isin(card_number)])\n",
        "\n",
        "def get_similar_card(cardName):\n",
        "    id = get_card_number(cardName.lower())\n",
        "    cardEmbedding = deck.get(id)\n",
        "    findCloserCards = closer_distance_dispatcher[CLOSER_POINTS_ALG]\n",
        "\n",
        "    if cardEmbedding is not None:\n",
        "      res = findCloserCards(id)\n",
        "    else :\n",
        "      res = 'Card ' + cardName + ' Not Found '\n",
        "      #remove_factions_not_universal_and_not_equal_to(get_card_faction(number, cards), cards)\n",
        "    return(res)\n",
        "    \n",
        "def predict(validation_df):\n",
        "\n",
        "  num_rows = validation_df.shape[0]\n",
        "  y = np.zeros((num_rows,1))\n",
        "  y_true = np.ones((num_rows, 1))\n",
        "  for index, row in validation_df.iterrows():\n",
        "    similar_cards = get_similar_card(row['Name'])\n",
        "    similar_cards_id = get_similar_card(row['Name'])\n",
        "    similar_cards_name = [id_card_name[key] for key in similar_cards.keys()]\n",
        "    if row['value'] in similar_cards_name:\n",
        "      similar = 1\n",
        "    else: \n",
        "      similar = 0\n",
        "    y[index] = similar\n",
        "\n",
        "  return(y)"
      ],
      "execution_count": null,
      "outputs": []
    },
    {
      "cell_type": "code",
      "metadata": {
        "id": "lwwN3OApilhW",
        "colab_type": "code",
        "colab": {}
      },
      "source": [
        "#cards = read_and_clean_csv('/content/drive/My Drive/colab/resources/shadespiredata.csv')\n",
        "cards = read_and_clean_gs('https://docs.google.com/spreadsheets/d/1FLfMz6FI3EyhxUwS9piCqO-IqiyGOhezQrVe3dW4dp8/edit#gid=2127126048', 'DataClean')\n",
        "validation_df = read_and_clean_validation_set('https://docs.google.com/spreadsheets/d/1FLfMz6FI3EyhxUwS9piCqO-IqiyGOhezQrVe3dW4dp8/edit#gid=2127126048','100CardsAndItsSimilar' )\n",
        "id_card_name = get_id_card_name_dic(cards)\n",
        "card_name_id = get_card_name_id_dic(cards)"
      ],
      "execution_count": null,
      "outputs": []
    },
    {
      "cell_type": "code",
      "metadata": {
        "id": "2zjMb7VJWe9o",
        "colab_type": "code",
        "colab": {
          "base_uri": "https://localhost:8080/",
          "height": 125
        },
        "outputId": "182eeb5c-66b5-4cb0-d5a3-1267c150dbea"
      },
      "source": [
        "glove_embeddings = get_embeddings_glove()\n",
        "word2vec_embeddings = word2vec.load_pretrained_vectors(dir_path=pathWord2Vec)\n",
        "fastext_embeddings = KeyedVectors.load_word2vec_format(pathFastText)\n",
        "doc2vecSelfTrainedModel = train_doc2vec(cards)\n",
        "bert_se = setup_bert()\n",
        "document_frequencies, num_documents = get_document_frequency(cards)\n",
        "\n",
        "#name = '/content/drive/My Drive/colab/resources/glove.6B.matrix'+str(embedding_dim)+'.json'\n",
        "#a_file = open(name, \"w\")\n",
        "#json.dump(glove_embeddings, a_file)\n",
        "#a_file.close()"
      ],
      "execution_count": null,
      "outputs": [
        {
          "output_type": "stream",
          "text": [
            "Indexing word vectors.\n",
            "Found 400000 word vectors.\n",
            "Vector file already exists. No changes made.\n"
          ],
          "name": "stdout"
        },
        {
          "output_type": "stream",
          "text": [
            "/usr/local/lib/python3.6/dist-packages/smart_open/smart_open_lib.py:254: UserWarning: This function is deprecated, use smart_open.open instead. See the migration notes for details: https://github.com/RaRe-Technologies/smart_open/blob/master/README.rst#migrating-to-the-new-open-function\n",
            "  'See the migration notes for details: %s' % _MIGRATION_NOTES_URL\n"
          ],
          "name": "stderr"
        }
      ]
    },
    {
      "cell_type": "code",
      "metadata": {
        "id": "HUII4EDHIpkU",
        "colab_type": "code",
        "colab": {
          "base_uri": "https://localhost:8080/",
          "height": 34
        },
        "outputId": "09f9cd7b-c6d4-4e6a-ddc9-c961cec45857"
      },
      "source": [
        "#regenerate for each embbeding and model\n",
        "EMBEDDINGDS = \"GLOVE_MIN_MAX\"\n",
        "deck = generate_card_embeddings_deck(cards)\n",
        "nbrsModel = knn_model()\n",
        "y_predict = predict(validation_df)\n",
        "y_true = np.ones((validation_df.shape[0],1))\n",
        "f1_score(y_true, y_predict)"
      ],
      "execution_count": null,
      "outputs": [
        {
          "output_type": "execute_result",
          "data": {
            "text/plain": [
              "0.48577680525164113"
            ]
          },
          "metadata": {
            "tags": []
          },
          "execution_count": 32
        }
      ]
    },
    {
      "cell_type": "code",
      "metadata": {
        "id": "BBVDe6EFgAVW",
        "colab_type": "code",
        "colab": {
          "base_uri": "https://localhost:8080/",
          "height": 34
        },
        "outputId": "fe9464dd-bd8c-4c7b-d1b7-ebd27c79aad8"
      },
      "source": [
        "#regenerate for each embbeding and model\n",
        "EMBEDDINGDS = \"GLOVE_WEIGTHED_AVERAGE\"\n",
        "deck = generate_card_embeddings_deck(cards)\n",
        "nbrsModel = knn_model()\n",
        "y_predict = predict(validation_df)\n",
        "y_true = np.ones((validation_df.shape[0],1))\n",
        "f1_score(y_true, y_predict)"
      ],
      "execution_count": null,
      "outputs": [
        {
          "output_type": "execute_result",
          "data": {
            "text/plain": [
              "0.5118279569892473"
            ]
          },
          "metadata": {
            "tags": []
          },
          "execution_count": 32
        }
      ]
    },
    {
      "cell_type": "code",
      "metadata": {
        "id": "rJG8DK0T10Ed",
        "colab_type": "code",
        "colab": {
          "base_uri": "https://localhost:8080/",
          "height": 34
        },
        "outputId": "9ca3d225-f090-413a-90ab-dbf733ba3d4a"
      },
      "source": [
        "EMBEDDINGDS = \"WORD2VEC_WEIGTHED_AVERAGE\"\n",
        "deck = generate_card_embeddings_deck(cards)\n",
        "nbrsModel = knn_model()\n",
        "y_predict = predict(validation_df)\n",
        "y_true = np.ones((validation_df.shape[0],1))\n",
        "f1_score(y_true, y_predict)"
      ],
      "execution_count": null,
      "outputs": [
        {
          "output_type": "execute_result",
          "data": {
            "text/plain": [
              "0.5717234262125902"
            ]
          },
          "metadata": {
            "tags": []
          },
          "execution_count": 33
        }
      ]
    },
    {
      "cell_type": "code",
      "metadata": {
        "id": "pV6aGaqznKFL",
        "colab_type": "code",
        "colab": {
          "base_uri": "https://localhost:8080/",
          "height": 34
        },
        "outputId": "d580deb9-bcd9-45d9-a369-4ef0b41f993f"
      },
      "source": [
        "EMBEDDINGDS = \"WORD2VEC_MIN_MAX\"\n",
        "deck = generate_card_embeddings_deck(cards)\n",
        "nbrsModel = knn_model()\n",
        "y_predict = predict(validation_df)\n",
        "y_true = np.ones((validation_df.shape[0],1))\n",
        "f1_score(y_true, y_predict)"
      ],
      "execution_count": null,
      "outputs": [
        {
          "output_type": "execute_result",
          "data": {
            "text/plain": [
              "0.460511679644049"
            ]
          },
          "metadata": {
            "tags": []
          },
          "execution_count": 29
        }
      ]
    },
    {
      "cell_type": "code",
      "metadata": {
        "id": "2tPMJgYPYzB7",
        "colab_type": "code",
        "colab": {
          "base_uri": "https://localhost:8080/",
          "height": 34
        },
        "outputId": "c5f8cae8-1f33-4838-ccd9-cda52b32925b"
      },
      "source": [
        "EMBEDDINGDS = \"FASTTEXT_WEIGTHED_AVERAGE\"\n",
        "deck = generate_card_embeddings_deck(cards)\n",
        "nbrsModel = knn_model()\n",
        "y_predict = predict(validation_df)\n",
        "y_true = np.ones((validation_df.shape[0],1))\n",
        "f1_score(y_true, y_predict)"
      ],
      "execution_count": null,
      "outputs": [
        {
          "output_type": "execute_result",
          "data": {
            "text/plain": [
              "0.5354497354497355"
            ]
          },
          "metadata": {
            "tags": []
          },
          "execution_count": 29
        }
      ]
    },
    {
      "cell_type": "code",
      "metadata": {
        "id": "IVCJMvZ_OLjW",
        "colab_type": "code",
        "colab": {
          "base_uri": "https://localhost:8080/",
          "height": 34
        },
        "outputId": "35c17e9d-97fe-4d48-acbb-92aa78e8fb61"
      },
      "source": [
        "EMBEDDINGDS = \"FASTTEXT_MIN_MAX\"\n",
        "deck = generate_card_embeddings_deck(cards)\n",
        "nbrsModel = knn_model()\n",
        "y_predict = predict(validation_df)\n",
        "y_true = np.ones((validation_df.shape[0],1))\n",
        "f1_score(y_true, y_predict)"
      ],
      "execution_count": null,
      "outputs": [
        {
          "output_type": "execute_result",
          "data": {
            "text/plain": [
              "0.4890829694323144"
            ]
          },
          "metadata": {
            "tags": []
          },
          "execution_count": 35
        }
      ]
    },
    {
      "cell_type": "code",
      "metadata": {
        "id": "tdeNTYbWIcNM",
        "colab_type": "code",
        "colab": {
          "base_uri": "https://localhost:8080/",
          "height": 34
        },
        "outputId": "d68d7e3d-b0e1-493c-cdaa-6c644bc38f28"
      },
      "source": [
        "EMBEDDINGDS = \"DOC2VEC_SELFTRAINED\"\n",
        "deck = generate_card_embeddings_deck(cards)\n",
        "nbrsModel = knn_model()\n",
        "y_predict = predict(validation_df)\n",
        "y_true = np.ones((validation_df.shape[0],1))\n",
        "f1_score(y_true, y_predict)"
      ],
      "execution_count": null,
      "outputs": [
        {
          "output_type": "execute_result",
          "data": {
            "text/plain": [
              "0.4236902050113895"
            ]
          },
          "metadata": {
            "tags": []
          },
          "execution_count": 81
        }
      ]
    },
    {
      "cell_type": "code",
      "metadata": {
        "id": "WUArFK9OfBvL",
        "colab_type": "code",
        "colab": {
          "base_uri": "https://localhost:8080/",
          "height": 34
        },
        "outputId": "4f914550-3b0c-4610-8c2c-7b1c1161af6f"
      },
      "source": [
        "EMBEDDINGDS = \"BERT\"\n",
        "deck = generate_card_embeddings_deck(cards)\n",
        "nbrsModel = knn_model()\n",
        "y_predict = predict(validation_df)\n",
        "y_true = np.ones((validation_df.shape[0],1))\n",
        "f1_score(y_true, y_predict)"
      ],
      "execution_count": null,
      "outputs": [
        {
          "output_type": "execute_result",
          "data": {
            "text/plain": [
              "0.4570791527313266"
            ]
          },
          "metadata": {
            "tags": []
          },
          "execution_count": 120
        }
      ]
    },
    {
      "cell_type": "code",
      "metadata": {
        "id": "w2H6q6lqR6oQ",
        "colab_type": "code",
        "colab": {}
      },
      "source": [
        "\n",
        "\n",
        "\n"
      ],
      "execution_count": null,
      "outputs": []
    },
    {
      "cell_type": "code",
      "metadata": {
        "id": "JX4rPh0EEnqc",
        "colab_type": "code",
        "colab": {
          "base_uri": "https://localhost:8080/",
          "height": 168
        },
        "outputId": "44279d9f-272c-4ae6-d978-1592cc6bb18e"
      },
      "source": [
        ""
      ],
      "execution_count": null,
      "outputs": [
        {
          "output_type": "error",
          "ename": "AttributeError",
          "evalue": "ignored",
          "traceback": [
            "\u001b[0;31m---------------------------------------------------------------------------\u001b[0m",
            "\u001b[0;31mAttributeError\u001b[0m                            Traceback (most recent call last)",
            "\u001b[0;32m<ipython-input-57-6f8172989102>\u001b[0m in \u001b[0;36m<module>\u001b[0;34m()\u001b[0m\n\u001b[0;32m----> 1\u001b[0;31m \u001b[0mtrain_corpus\u001b[0m\u001b[0;34m.\u001b[0m\u001b[0mshape\u001b[0m\u001b[0;34m(\u001b[0m\u001b[0;34m)\u001b[0m\u001b[0;34m\u001b[0m\u001b[0;34m\u001b[0m\u001b[0m\n\u001b[0m",
            "\u001b[0;31mAttributeError\u001b[0m: 'list' object has no attribute 'shape'"
          ]
        }
      ]
    },
    {
      "cell_type": "code",
      "metadata": {
        "id": "aY6zc3BjGAp0",
        "colab_type": "code",
        "colab": {}
      },
      "source": [
        ""
      ],
      "execution_count": null,
      "outputs": []
    },
    {
      "cell_type": "code",
      "metadata": {
        "id": "U-46DNFgDESd",
        "colab_type": "code",
        "colab": {
          "base_uri": "https://localhost:8080/",
          "height": 338
        },
        "outputId": "97f16032-3be1-4748-c2b1-24a068356dd0"
      },
      "source": [
        ""
      ],
      "execution_count": null,
      "outputs": [
        {
          "output_type": "stream",
          "text": [
            "Collecting scrapbook\n",
            "  Downloading https://files.pythonhosted.org/packages/eb/22/5c55a90934780daedc2747c8e40bae814adff393da1aca0fae577d13c00d/scrapbook-0.2.0.tar.gz\n",
            "Collecting parsel>=1.2.0\n",
            "  Downloading https://files.pythonhosted.org/packages/23/1e/9b39d64cbab79d4362cdd7be7f5e9623d45c4a53b3f7522cd8210df52d8e/parsel-1.6.0-py2.py3-none-any.whl\n",
            "Requirement already satisfied: six>=1.10.0 in /usr/local/lib/python3.6/dist-packages (from scrapbook) (1.15.0)\n",
            "Requirement already satisfied: lxml in /usr/local/lib/python3.6/dist-packages (from parsel>=1.2.0->scrapbook) (4.2.6)\n",
            "Collecting cssselect>=0.9\n",
            "  Downloading https://files.pythonhosted.org/packages/3b/d4/3b5c17f00cce85b9a1e6f91096e1cc8e8ede2e1be8e96b87ce1ed09e92c5/cssselect-1.1.0-py2.py3-none-any.whl\n",
            "Collecting w3lib>=1.19.0\n",
            "  Downloading https://files.pythonhosted.org/packages/a3/59/b6b14521090e7f42669cafdb84b0ab89301a42f1f1a82fcf5856661ea3a7/w3lib-1.22.0-py2.py3-none-any.whl\n",
            "Building wheels for collected packages: scrapbook\n",
            "  Building wheel for scrapbook (setup.py) ... \u001b[?25l\u001b[?25hdone\n",
            "  Created wheel for scrapbook: filename=scrapbook-0.2.0-cp36-none-any.whl size=4883 sha256=01eae969b634a695b521132424977263f9c3caeb6c628b794c52194ddf7be812\n",
            "  Stored in directory: /root/.cache/pip/wheels/35/4e/3e/b23f6c97e73fdcae44d7a5c8c22024b8e9410c1a20fe61f864\n",
            "Successfully built scrapbook\n",
            "Installing collected packages: cssselect, w3lib, parsel, scrapbook\n",
            "Successfully installed cssselect-1.1.0 parsel-1.6.0 scrapbook-0.2.0 w3lib-1.22.0\n"
          ],
          "name": "stdout"
        }
      ]
    },
    {
      "cell_type": "code",
      "metadata": {
        "id": "G3STBfmTbfzS",
        "colab_type": "code",
        "colab": {}
      },
      "source": [
        "\n"
      ],
      "execution_count": null,
      "outputs": []
    },
    {
      "cell_type": "code",
      "metadata": {
        "id": "b1uruBuJbkI7",
        "colab_type": "code",
        "colab": {}
      },
      "source": [
        "\n"
      ],
      "execution_count": null,
      "outputs": []
    },
    {
      "cell_type": "code",
      "metadata": {
        "id": "S78nUSrEcpRw",
        "colab_type": "code",
        "colab": {
          "base_uri": "https://localhost:8080/",
          "height": 34
        },
        "outputId": "c769c540-3f4a-4406-a0c5-2e88c4bb6d7a"
      },
      "source": [
        "\n",
        "\n",
        "\n",
        "\n",
        "emb = bert_embeddings(cards)\n"
      ],
      "execution_count": null,
      "outputs": [
        {
          "output_type": "stream",
          "text": [
            "100%|██████████| 1423/1423 [00:00<00:00, 3969.28it/s]\n"
          ],
          "name": "stderr"
        }
      ]
    },
    {
      "cell_type": "code",
      "metadata": {
        "id": "ZonfivZ_eBGS",
        "colab_type": "code",
        "colab": {}
      },
      "source": [
        "bert_embedding = emb"
      ],
      "execution_count": null,
      "outputs": []
    },
    {
      "cell_type": "code",
      "metadata": {
        "id": "alfWDP6CeGoh",
        "colab_type": "code",
        "colab": {}
      },
      "source": [
        "cards_embedding = bert_embedding\n",
        "deck = {}\n",
        "i = 0\n",
        "for number in cards['Number']: \n",
        "  deck[number] = cards_embedding[i]\n",
        "  i=i+1"
      ],
      "execution_count": null,
      "outputs": []
    },
    {
      "cell_type": "code",
      "metadata": {
        "id": "o4PHbxFYTtRz",
        "colab_type": "code",
        "colab": {
          "base_uri": "https://localhost:8080/",
          "height": 464
        },
        "outputId": "db5d9d4b-b409-485e-e250-77f2a2f933f4"
      },
      "source": [
        "similar_cards = get_similar_card('Pit trap')\n",
        "similar_cards_decorated = deck_decorator(similar_cards.keys(), cards)\n",
        "similar_cards_decorated"
      ],
      "execution_count": null,
      "outputs": [
        {
          "output_type": "execute_result",
          "data": {
            "text/html": [
              "<div>\n",
              "<style scoped>\n",
              "    .dataframe tbody tr th:only-of-type {\n",
              "        vertical-align: middle;\n",
              "    }\n",
              "\n",
              "    .dataframe tbody tr th {\n",
              "        vertical-align: top;\n",
              "    }\n",
              "\n",
              "    .dataframe thead th {\n",
              "        text-align: right;\n",
              "    }\n",
              "</style>\n",
              "<table border=\"1\" class=\"dataframe\">\n",
              "  <thead>\n",
              "    <tr style=\"text-align: right;\">\n",
              "      <th></th>\n",
              "      <th>Number</th>\n",
              "      <th>Name</th>\n",
              "      <th>Type</th>\n",
              "      <th>Faction</th>\n",
              "      <th>Description_clean</th>\n",
              "    </tr>\n",
              "  </thead>\n",
              "  <tbody>\n",
              "    <tr>\n",
              "      <th>29</th>\n",
              "      <td>30</td>\n",
              "      <td>awe-inspiring</td>\n",
              "      <td>Objective</td>\n",
              "      <td>Steelheart's Champions</td>\n",
              "      <td>score this immediately if your warband has taken two or more fighters out of action in this phase able to be scored if you draw this card after the condition was met</td>\n",
              "    </tr>\n",
              "    <tr>\n",
              "      <th>355</th>\n",
              "      <td>356</td>\n",
              "      <td>shardgale</td>\n",
              "      <td>Ploy</td>\n",
              "      <td>Universal</td>\n",
              "      <td>all fighters suffer 1 damage</td>\n",
              "    </tr>\n",
              "    <tr>\n",
              "      <th>540</th>\n",
              "      <td>N44</td>\n",
              "      <td>rending scream</td>\n",
              "      <td>Spell</td>\n",
              "      <td>Thorns of the Briar Queen</td>\n",
              "      <td>gambit spell magical channelmagical channel if this spell is cast each enemy fighter adjacent to the caster suffers 1 damage</td>\n",
              "    </tr>\n",
              "    <tr>\n",
              "      <th>591</th>\n",
              "      <td>N95</td>\n",
              "      <td>scragged</td>\n",
              "      <td>Objective</td>\n",
              "      <td>Zarbag's Gitz</td>\n",
              "      <td>score this immediately if an enemy fighter is taken out of action while adjacent to three or more friendly fighters</td>\n",
              "    </tr>\n",
              "    <tr>\n",
              "      <th>736</th>\n",
              "      <td>N240</td>\n",
              "      <td>sound finances</td>\n",
              "      <td>Objective</td>\n",
              "      <td>Thundrik's Profiteers</td>\n",
              "      <td>score this in an end phase if you have 5 or more unspent glory points</td>\n",
              "    </tr>\n",
              "    <tr>\n",
              "      <th>914</th>\n",
              "      <td>N418</td>\n",
              "      <td>grievous riposte</td>\n",
              "      <td>Ploy</td>\n",
              "      <td>Universal</td>\n",
              "      <td>reaction play this after an attack action with a range of 1 that targets a friendly fighter and fails if there are any atcrit in your defence roll the attacker suffers 2 damage</td>\n",
              "    </tr>\n",
              "    <tr>\n",
              "      <th>975</th>\n",
              "      <td>N479</td>\n",
              "      <td>blessing of argentine</td>\n",
              "      <td>Upgrade</td>\n",
              "      <td>Universal</td>\n",
              "      <td>reaction during an adjacent enemys attack action that damages this fighter their attacker suffers 1 damage</td>\n",
              "    </tr>\n",
              "    <tr>\n",
              "      <th>991</th>\n",
              "      <td>N495</td>\n",
              "      <td>enchanted greaves</td>\n",
              "      <td>Upgrade</td>\n",
              "      <td>Universal</td>\n",
              "      <td>this fighter treats lethal hexes as normal hexes</td>\n",
              "    </tr>\n",
              "    <tr>\n",
              "      <th>1591</th>\n",
              "      <td>B354</td>\n",
              "      <td>lucky escape</td>\n",
              "      <td>Ploy</td>\n",
              "      <td>Universal</td>\n",
              "      <td>reaction play this when a friendly fighter is dealt 1 damage precisely that damage is not dealt to them</td>\n",
              "    </tr>\n",
              "    <tr>\n",
              "      <th>1605</th>\n",
              "      <td>B368</td>\n",
              "      <td>snare</td>\n",
              "      <td>Ploy</td>\n",
              "      <td>Universal</td>\n",
              "      <td>reaction play this during a friendly hunters attack action after it drives back an enemy fighter the enemy fighter is dealt 1 damage</td>\n",
              "    </tr>\n",
              "  </tbody>\n",
              "</table>\n",
              "</div>"
            ],
            "text/plain": [
              "     Number  ...                                                                                                                                                                 Description_clean\n",
              "29    30     ...  score this immediately if your warband has taken two or more fighters out of action in this phase able to be scored if you draw this card after the condition was met           \n",
              "355   356    ...  all fighters suffer 1 damage                                                                                                                                                    \n",
              "540   N44    ...  gambit spell magical channelmagical channel if this spell is cast each enemy fighter adjacent to the caster suffers 1 damage                                                    \n",
              "591   N95    ...  score this immediately if an enemy fighter is taken out of action while adjacent to three or more friendly fighters                                                             \n",
              "736   N240   ...  score this in an end phase if you have 5 or more unspent glory points                                                                                                           \n",
              "914   N418   ...  reaction play this after an attack action with a range of 1 that targets a friendly fighter and fails if there are any atcrit in your defence roll the attacker suffers 2 damage\n",
              "975   N479   ...  reaction during an adjacent enemys attack action that damages this fighter their attacker suffers 1 damage                                                                      \n",
              "991   N495   ...  this fighter treats lethal hexes as normal hexes                                                                                                                                \n",
              "1591  B354   ...  reaction play this when a friendly fighter is dealt 1 damage precisely that damage is not dealt to them                                                                         \n",
              "1605  B368   ...  reaction play this during a friendly hunters attack action after it drives back an enemy fighter the enemy fighter is dealt 1 damage                                            \n",
              "\n",
              "[10 rows x 5 columns]"
            ]
          },
          "metadata": {
            "tags": []
          },
          "execution_count": 71
        }
      ]
    },
    {
      "cell_type": "markdown",
      "metadata": {
        "id": "IMDqylgEwhSk",
        "colab_type": "text"
      },
      "source": [
        "\n",
        "# This is the code for using flask and pigeon\n",
        " \n",
        "\n"
      ]
    },
    {
      "cell_type": "code",
      "metadata": {
        "id": "QHBTM-M7wjQl",
        "colab_type": "code",
        "colab": {}
      },
      "source": [
        "def similarcards(name):\n",
        "    similar_cards = get_similar_card(name, 3, cards)\n",
        "    if  isinstance(similar_cards, str):\n",
        "      cardsToReturn = similar_cards\n",
        "    else:\n",
        "      similar_cards_decorated = deck_decorator(similar_cards.keys(), cards).copy()\n",
        "      similar_cards_decorated['Score'] = similar_cards.values()\n",
        "      similar_cards_decorated.sort_values(by=['Score'])\n",
        "      cardsToReturn = similar_cards_decorated.to_dict('index')\n",
        "    return cardsToReturn"
      ],
      "execution_count": null,
      "outputs": []
    },
    {
      "cell_type": "code",
      "metadata": {
        "id": "NT1iLHzAqI9A",
        "colab_type": "code",
        "colab": {
          "base_uri": "https://localhost:8080/"
        },
        "outputId": "403f5bc2-d34e-4513-b0ca-b541f0ba2560"
      },
      "source": [
        "from flask_ngrok import run_with_ngrok\n",
        "from flask import Flask, redirect\n",
        "app = Flask(__name__)\n",
        "run_with_ngrok(app) \n",
        "@app.route('/similarcards/<name>')\n",
        "\n",
        "#@app.route('/similarcards/<name>')\n",
        "\n",
        "\n",
        "def similarcardsUWDB(name):\n",
        "    similar_cards = get_similar_card(name, 6, cards)\n",
        "    if isinstance(similar_cards, str):\n",
        "      cardsToReturn = similar_cards\n",
        "    else:  \n",
        "      base_url='https://www.underworldsdb.com/shared.php?deck=0,'\n",
        "      similarCards_url = ','.join([str(elem) for elem in similar_cards.keys()])\n",
        "      url = base_url + similarCards_url\n",
        "      cardsToReturn = redirect(url, code=302)\n",
        "    return cardsToReturn\n",
        "\n",
        "app.run()"
      ],
      "execution_count": null,
      "outputs": [
        {
          "output_type": "stream",
          "text": [
            " * Serving Flask app \"__main__\" (lazy loading)\n",
            " * Environment: production\n",
            "\u001b[31m   WARNING: This is a development server. Do not use it in a production deployment.\u001b[0m\n",
            "\u001b[2m   Use a production WSGI server instead.\u001b[0m\n",
            " * Debug mode: off\n"
          ],
          "name": "stdout"
        },
        {
          "output_type": "stream",
          "text": [
            " * Running on http://127.0.0.1:5000/ (Press CTRL+C to quit)\n"
          ],
          "name": "stderr"
        },
        {
          "output_type": "stream",
          "text": [
            " * Running on http://dd71460272d3.ngrok.io\n",
            " * Traffic stats available on http://127.0.0.1:4040\n"
          ],
          "name": "stdout"
        },
        {
          "output_type": "stream",
          "text": [
            "127.0.0.1 - - [09/Jul/2020 12:25:29] \"\u001b[33mGET / HTTP/1.1\u001b[0m\" 404 -\n",
            "127.0.0.1 - - [09/Jul/2020 12:25:35] \"\u001b[33mGET /simia HTTP/1.1\u001b[0m\" 404 -\n",
            "127.0.0.1 - - [09/Jul/2020 12:25:36] \"\u001b[33mGET /simi HTTP/1.1\u001b[0m\" 404 -\n",
            "127.0.0.1 - - [09/Jul/2020 12:25:39] \"\u001b[33mGET /similarcard/ HTTP/1.1\u001b[0m\" 404 -\n",
            "127.0.0.1 - - [09/Jul/2020 12:25:42] \"\u001b[33mGET /similarcard/distraction HTTP/1.1\u001b[0m\" 404 -\n",
            "127.0.0.1 - - [09/Jul/2020 12:26:59] \"\u001b[32mGET /similarcards/distraction HTTP/1.1\u001b[0m\" 302 -\n",
            "127.0.0.1 - - [09/Jul/2020 12:27:21] \"\u001b[32mGET /similarcards/distraction HTTP/1.1\u001b[0m\" 302 -\n",
            "127.0.0.1 - - [09/Jul/2020 12:27:22] \"\u001b[32mGET /similarcards/distraction HTTP/1.1\u001b[0m\" 302 -\n",
            "127.0.0.1 - - [09/Jul/2020 12:27:24] \"\u001b[37mGET /similarcards/d HTTP/1.1\u001b[0m\" 200 -\n",
            "127.0.0.1 - - [09/Jul/2020 12:27:25] \"\u001b[33mGET /similarcards/ HTTP/1.1\u001b[0m\" 404 -\n",
            "127.0.0.1 - - [09/Jul/2020 12:27:31] \"\u001b[37mGET /similarcards/si HTTP/1.1\u001b[0m\" 200 -\n",
            "127.0.0.1 - - [09/Jul/2020 12:27:31] \"\u001b[37mGET /similarcards/sid HTTP/1.1\u001b[0m\" 200 -\n",
            "127.0.0.1 - - [09/Jul/2020 12:27:31] \"\u001b[37mGET /similarcards/side HTTP/1.1\u001b[0m\" 200 -\n",
            "127.0.0.1 - - [09/Jul/2020 12:27:32] \"\u001b[37mGET /similarcards/sides HTTP/1.1\u001b[0m\" 200 -\n",
            "127.0.0.1 - - [09/Jul/2020 12:27:32] \"\u001b[37mGET /similarcards/sidest HTTP/1.1\u001b[0m\" 200 -\n",
            "127.0.0.1 - - [09/Jul/2020 12:27:32] \"\u001b[37mGET /similarcards/sideste HTTP/1.1\u001b[0m\" 200 -\n",
            "127.0.0.1 - - [09/Jul/2020 12:27:34] \"\u001b[32mGET /similarcards/sidestep HTTP/1.1\u001b[0m\" 302 -\n",
            "127.0.0.1 - - [09/Jul/2020 12:27:35] \"\u001b[32mGET /similarcards/sidestep HTTP/1.1\u001b[0m\" 302 -\n",
            "127.0.0.1 - - [09/Jul/2020 12:28:16] \"\u001b[32mGET /similarcards/sidestep HTTP/1.1\u001b[0m\" 302 -\n"
          ],
          "name": "stderr"
        }
      ]
    },
    {
      "cell_type": "code",
      "metadata": {
        "id": "aYqFfSuODzBK",
        "colab_type": "code",
        "colab": {
          "base_uri": "https://localhost:8080/",
          "height": 116,
          "referenced_widgets": [
            "1fcc58a0fc1f45958de47b276f16640f",
            "eace3187cafc4d548e3720873544321b",
            "57a26782c0c643158e021dff70cfb4d4",
            "d1d63a740e954099a67052ad1516271c",
            "1cd80cdd285f4baeb7786db438b67448",
            "136267fe57904a079c437922e90b9d39",
            "8b3754297a434a30b5287679f549e5e5",
            "06581090185f4987adf2da4d5b184c46",
            "6a0eda4b2d9f47089561e11728384a62",
            "d58913f3579f4979b5607ce87b373416",
            "23639c710adc4fe1a2427b43a86e9676",
            "88cf1891bf80409d9df317a74ec6550b",
            "00ae7b257a2c486aa1ca915fed56397d",
            "572de867423d45caa4c3c5170033bd90",
            "5cd0e1a2c4ac475a8c319851e4bc3336",
            "7c5d244e9c7646a49bef7d4e1b3fc13e"
          ]
        },
        "outputId": "45f3816a-36a2-43c5-c047-12f350fda5e0"
      },
      "source": [
        "from pigeon import annotate\n",
        "annotations = annotate(\n",
        "  ['I love this movie', 'I was really disappointed by the book'],\n",
        "  options=['positive', 'negative']\n",
        ")"
      ],
      "execution_count": null,
      "outputs": [
        {
          "output_type": "display_data",
          "data": {
            "application/vnd.jupyter.widget-view+json": {
              "model_id": "1fcc58a0fc1f45958de47b276f16640f",
              "version_minor": 0,
              "version_major": 2
            },
            "text/plain": [
              "HTML(value='0 examples annotated, 3 examples left')"
            ]
          },
          "metadata": {
            "tags": []
          }
        },
        {
          "output_type": "display_data",
          "data": {
            "application/vnd.jupyter.widget-view+json": {
              "model_id": "d1d63a740e954099a67052ad1516271c",
              "version_minor": 0,
              "version_major": 2
            },
            "text/plain": [
              "HBox(children=(Button(description='positive', style=ButtonStyle()), Button(description='negative', style=Butto…"
            ]
          },
          "metadata": {
            "tags": []
          }
        },
        {
          "output_type": "display_data",
          "data": {
            "application/vnd.jupyter.widget-view+json": {
              "model_id": "5cd0e1a2c4ac475a8c319851e4bc3336",
              "version_minor": 0,
              "version_major": 2
            },
            "text/plain": [
              "Output()"
            ]
          },
          "metadata": {
            "tags": []
          }
        },
        {
          "output_type": "stream",
          "text": [
            "Annotation done.\n"
          ],
          "name": "stdout"
        }
      ]
    },
    {
      "cell_type": "code",
      "metadata": {
        "id": "6n-6FPhHD_Pi",
        "colab_type": "code",
        "colab": {
          "base_uri": "https://localhost:8080/",
          "height": 51
        },
        "outputId": "8c1e8a08-7f12-4ffc-bef8-f06e43f2d92e"
      },
      "source": [
        ""
      ],
      "execution_count": null,
      "outputs": [
        {
          "output_type": "execute_result",
          "data": {
            "text/plain": [
              "[('I love this movie', 'positive'),\n",
              " ('I was really disappointed by the book', 'negative')]"
            ]
          },
          "metadata": {
            "tags": []
          },
          "execution_count": 32
        }
      ]
    },
    {
      "cell_type": "code",
      "metadata": {
        "id": "jDkDzORWDV1K",
        "colab_type": "code",
        "colab": {
          "base_uri": "https://localhost:8080/",
          "height": 819
        },
        "outputId": "5a1d7ea0-b1df-4f11-ec77-eb6bbf3fdd07"
      },
      "source": [
        "!pip install pigeon-jupyter"
      ],
      "execution_count": null,
      "outputs": [
        {
          "output_type": "stream",
          "text": [
            "Collecting pigeon-jupyter\n",
            "  Downloading https://files.pythonhosted.org/packages/d1/c7/0a19ff2f31d242804e6f521c35b388475766565503b318e0462b2a4b6731/pigeon-jupyter-0.1.0.tar.gz\n",
            "Requirement already satisfied: ipywidgets in /usr/local/lib/python3.6/dist-packages (from pigeon-jupyter) (7.5.1)\n",
            "Requirement already satisfied: traitlets>=4.3.1 in /usr/local/lib/python3.6/dist-packages (from ipywidgets->pigeon-jupyter) (4.3.3)\n",
            "Requirement already satisfied: ipykernel>=4.5.1 in /usr/local/lib/python3.6/dist-packages (from ipywidgets->pigeon-jupyter) (4.10.1)\n",
            "Requirement already satisfied: widgetsnbextension~=3.5.0 in /usr/local/lib/python3.6/dist-packages (from ipywidgets->pigeon-jupyter) (3.5.1)\n",
            "Requirement already satisfied: nbformat>=4.2.0 in /usr/local/lib/python3.6/dist-packages (from ipywidgets->pigeon-jupyter) (5.0.7)\n",
            "Requirement already satisfied: ipython>=4.0.0; python_version >= \"3.3\" in /usr/local/lib/python3.6/dist-packages (from ipywidgets->pigeon-jupyter) (5.5.0)\n",
            "Requirement already satisfied: ipython-genutils in /usr/local/lib/python3.6/dist-packages (from traitlets>=4.3.1->ipywidgets->pigeon-jupyter) (0.2.0)\n",
            "Requirement already satisfied: decorator in /usr/local/lib/python3.6/dist-packages (from traitlets>=4.3.1->ipywidgets->pigeon-jupyter) (4.4.2)\n",
            "Requirement already satisfied: six in /usr/local/lib/python3.6/dist-packages (from traitlets>=4.3.1->ipywidgets->pigeon-jupyter) (1.12.0)\n",
            "Requirement already satisfied: tornado>=4.0 in /usr/local/lib/python3.6/dist-packages (from ipykernel>=4.5.1->ipywidgets->pigeon-jupyter) (4.5.3)\n",
            "Requirement already satisfied: jupyter-client in /usr/local/lib/python3.6/dist-packages (from ipykernel>=4.5.1->ipywidgets->pigeon-jupyter) (5.3.4)\n",
            "Requirement already satisfied: notebook>=4.4.1 in /usr/local/lib/python3.6/dist-packages (from widgetsnbextension~=3.5.0->ipywidgets->pigeon-jupyter) (5.2.2)\n",
            "Requirement already satisfied: jupyter-core in /usr/local/lib/python3.6/dist-packages (from nbformat>=4.2.0->ipywidgets->pigeon-jupyter) (4.6.3)\n",
            "Requirement already satisfied: jsonschema!=2.5.0,>=2.4 in /usr/local/lib/python3.6/dist-packages (from nbformat>=4.2.0->ipywidgets->pigeon-jupyter) (2.6.0)\n",
            "Requirement already satisfied: prompt-toolkit<2.0.0,>=1.0.4 in /usr/local/lib/python3.6/dist-packages (from ipython>=4.0.0; python_version >= \"3.3\"->ipywidgets->pigeon-jupyter) (1.0.18)\n",
            "Requirement already satisfied: pickleshare in /usr/local/lib/python3.6/dist-packages (from ipython>=4.0.0; python_version >= \"3.3\"->ipywidgets->pigeon-jupyter) (0.7.5)\n",
            "Requirement already satisfied: pexpect; sys_platform != \"win32\" in /usr/local/lib/python3.6/dist-packages (from ipython>=4.0.0; python_version >= \"3.3\"->ipywidgets->pigeon-jupyter) (4.8.0)\n",
            "Requirement already satisfied: setuptools>=18.5 in /usr/local/lib/python3.6/dist-packages (from ipython>=4.0.0; python_version >= \"3.3\"->ipywidgets->pigeon-jupyter) (47.3.1)\n",
            "Requirement already satisfied: simplegeneric>0.8 in /usr/local/lib/python3.6/dist-packages (from ipython>=4.0.0; python_version >= \"3.3\"->ipywidgets->pigeon-jupyter) (0.8.1)\n",
            "Requirement already satisfied: pygments in /usr/local/lib/python3.6/dist-packages (from ipython>=4.0.0; python_version >= \"3.3\"->ipywidgets->pigeon-jupyter) (2.1.3)\n",
            "Requirement already satisfied: python-dateutil>=2.1 in /usr/local/lib/python3.6/dist-packages (from jupyter-client->ipykernel>=4.5.1->ipywidgets->pigeon-jupyter) (2.8.1)\n",
            "Requirement already satisfied: pyzmq>=13 in /usr/local/lib/python3.6/dist-packages (from jupyter-client->ipykernel>=4.5.1->ipywidgets->pigeon-jupyter) (19.0.1)\n",
            "Requirement already satisfied: jinja2 in /usr/local/lib/python3.6/dist-packages (from notebook>=4.4.1->widgetsnbextension~=3.5.0->ipywidgets->pigeon-jupyter) (2.11.2)\n",
            "Requirement already satisfied: terminado>=0.3.3; sys_platform != \"win32\" in /usr/local/lib/python3.6/dist-packages (from notebook>=4.4.1->widgetsnbextension~=3.5.0->ipywidgets->pigeon-jupyter) (0.8.3)\n",
            "Requirement already satisfied: nbconvert in /usr/local/lib/python3.6/dist-packages (from notebook>=4.4.1->widgetsnbextension~=3.5.0->ipywidgets->pigeon-jupyter) (5.6.1)\n",
            "Requirement already satisfied: wcwidth in /usr/local/lib/python3.6/dist-packages (from prompt-toolkit<2.0.0,>=1.0.4->ipython>=4.0.0; python_version >= \"3.3\"->ipywidgets->pigeon-jupyter) (0.2.5)\n",
            "Requirement already satisfied: ptyprocess>=0.5 in /usr/local/lib/python3.6/dist-packages (from pexpect; sys_platform != \"win32\"->ipython>=4.0.0; python_version >= \"3.3\"->ipywidgets->pigeon-jupyter) (0.6.0)\n",
            "Requirement already satisfied: MarkupSafe>=0.23 in /usr/local/lib/python3.6/dist-packages (from jinja2->notebook>=4.4.1->widgetsnbextension~=3.5.0->ipywidgets->pigeon-jupyter) (1.1.1)\n",
            "Requirement already satisfied: entrypoints>=0.2.2 in /usr/local/lib/python3.6/dist-packages (from nbconvert->notebook>=4.4.1->widgetsnbextension~=3.5.0->ipywidgets->pigeon-jupyter) (0.3)\n",
            "Requirement already satisfied: testpath in /usr/local/lib/python3.6/dist-packages (from nbconvert->notebook>=4.4.1->widgetsnbextension~=3.5.0->ipywidgets->pigeon-jupyter) (0.4.4)\n",
            "Requirement already satisfied: bleach in /usr/local/lib/python3.6/dist-packages (from nbconvert->notebook>=4.4.1->widgetsnbextension~=3.5.0->ipywidgets->pigeon-jupyter) (3.1.5)\n",
            "Requirement already satisfied: defusedxml in /usr/local/lib/python3.6/dist-packages (from nbconvert->notebook>=4.4.1->widgetsnbextension~=3.5.0->ipywidgets->pigeon-jupyter) (0.6.0)\n",
            "Requirement already satisfied: pandocfilters>=1.4.1 in /usr/local/lib/python3.6/dist-packages (from nbconvert->notebook>=4.4.1->widgetsnbextension~=3.5.0->ipywidgets->pigeon-jupyter) (1.4.2)\n",
            "Requirement already satisfied: mistune<2,>=0.8.1 in /usr/local/lib/python3.6/dist-packages (from nbconvert->notebook>=4.4.1->widgetsnbextension~=3.5.0->ipywidgets->pigeon-jupyter) (0.8.4)\n",
            "Requirement already satisfied: packaging in /usr/local/lib/python3.6/dist-packages (from bleach->nbconvert->notebook>=4.4.1->widgetsnbextension~=3.5.0->ipywidgets->pigeon-jupyter) (20.4)\n",
            "Requirement already satisfied: webencodings in /usr/local/lib/python3.6/dist-packages (from bleach->nbconvert->notebook>=4.4.1->widgetsnbextension~=3.5.0->ipywidgets->pigeon-jupyter) (0.5.1)\n",
            "Requirement already satisfied: pyparsing>=2.0.2 in /usr/local/lib/python3.6/dist-packages (from packaging->bleach->nbconvert->notebook>=4.4.1->widgetsnbextension~=3.5.0->ipywidgets->pigeon-jupyter) (2.4.7)\n",
            "Building wheels for collected packages: pigeon-jupyter\n",
            "  Building wheel for pigeon-jupyter (setup.py) ... \u001b[?25l\u001b[?25hdone\n",
            "  Created wheel for pigeon-jupyter: filename=pigeon_jupyter-0.1.0-cp36-none-any.whl size=3866 sha256=56d0b611d69a5f59f16460156ceddc5c0dbdbd56df59a56dd87989e5982303fe\n",
            "  Stored in directory: /root/.cache/pip/wheels/9c/e1/74/712f424efed3467a38edd654aedaad8e303e254a5a0fdbed49\n",
            "Successfully built pigeon-jupyter\n",
            "Installing collected packages: pigeon-jupyter\n",
            "Successfully installed pigeon-jupyter-0.1.0\n"
          ],
          "name": "stdout"
        }
      ]
    }
  ]
}